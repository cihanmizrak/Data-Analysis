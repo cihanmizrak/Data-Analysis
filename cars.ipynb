{
 "cells": [
  {
   "cell_type": "code",
   "execution_count": 198,
   "id": "6e521acc-b24c-472c-a7c8-696eade24557",
   "metadata": {},
   "outputs": [],
   "source": [
    "import numpy as np\n",
    "import seaborn as sns\n",
    "import pandas as pd\n",
    "import matplotlib.pyplot as plt\n",
    "from sklearn.linear_model import LinearRegression,Ridge,Lasso,ElasticNet\n",
    "import warnings\n",
    "warnings.filterwarnings(\"ignore\")\n",
    "%matplotlib inline\n"
   ]
  },
  {
   "cell_type": "code",
   "execution_count": 131,
   "id": "a04b7869-be0b-4143-b3f6-a8316037fa18",
   "metadata": {},
   "outputs": [
    {
     "data": {
      "text/html": [
       "<div>\n",
       "<style scoped>\n",
       "    .dataframe tbody tr th:only-of-type {\n",
       "        vertical-align: middle;\n",
       "    }\n",
       "\n",
       "    .dataframe tbody tr th {\n",
       "        vertical-align: top;\n",
       "    }\n",
       "\n",
       "    .dataframe thead th {\n",
       "        text-align: right;\n",
       "    }\n",
       "</style>\n",
       "<table border=\"1\" class=\"dataframe\">\n",
       "  <thead>\n",
       "    <tr style=\"text-align: right;\">\n",
       "      <th></th>\n",
       "      <th>SiraNo</th>\n",
       "      <th>RiskDerecesi</th>\n",
       "      <th>KayipDegeri</th>\n",
       "      <th>Uretici</th>\n",
       "      <th>YakitTuru</th>\n",
       "      <th>Enjeksiyon</th>\n",
       "      <th>KapiSayisi</th>\n",
       "      <th>GovdeTuru</th>\n",
       "      <th>Cekis</th>\n",
       "      <th>DingilAcikligi</th>\n",
       "      <th>...</th>\n",
       "      <th>MotorHacmi</th>\n",
       "      <th>YakitSistemi</th>\n",
       "      <th>SilindirCapi</th>\n",
       "      <th>Zamanlama</th>\n",
       "      <th>SikistirmaOrani</th>\n",
       "      <th>BeygirGucu</th>\n",
       "      <th>MaximumDevir</th>\n",
       "      <th>SehirIciHarcama</th>\n",
       "      <th>SehirDisiHarcama</th>\n",
       "      <th>Fiyat</th>\n",
       "    </tr>\n",
       "  </thead>\n",
       "  <tbody>\n",
       "    <tr>\n",
       "      <th>0</th>\n",
       "      <td>1</td>\n",
       "      <td>2</td>\n",
       "      <td>164</td>\n",
       "      <td>audi</td>\n",
       "      <td>gas</td>\n",
       "      <td>std</td>\n",
       "      <td>four</td>\n",
       "      <td>sedan</td>\n",
       "      <td>fwd</td>\n",
       "      <td>99,8</td>\n",
       "      <td>...</td>\n",
       "      <td>109</td>\n",
       "      <td>mpfi</td>\n",
       "      <td>3,19</td>\n",
       "      <td>3,4</td>\n",
       "      <td>10</td>\n",
       "      <td>102</td>\n",
       "      <td>5500</td>\n",
       "      <td>24</td>\n",
       "      <td>30</td>\n",
       "      <td>13950</td>\n",
       "    </tr>\n",
       "    <tr>\n",
       "      <th>1</th>\n",
       "      <td>2</td>\n",
       "      <td>2</td>\n",
       "      <td>164</td>\n",
       "      <td>audi</td>\n",
       "      <td>gas</td>\n",
       "      <td>std</td>\n",
       "      <td>four</td>\n",
       "      <td>sedan</td>\n",
       "      <td>4wd</td>\n",
       "      <td>99,4</td>\n",
       "      <td>...</td>\n",
       "      <td>136</td>\n",
       "      <td>mpfi</td>\n",
       "      <td>3,19</td>\n",
       "      <td>3,4</td>\n",
       "      <td>8</td>\n",
       "      <td>115</td>\n",
       "      <td>5500</td>\n",
       "      <td>18</td>\n",
       "      <td>22</td>\n",
       "      <td>17450</td>\n",
       "    </tr>\n",
       "    <tr>\n",
       "      <th>2</th>\n",
       "      <td>3</td>\n",
       "      <td>1</td>\n",
       "      <td>158</td>\n",
       "      <td>audi</td>\n",
       "      <td>gas</td>\n",
       "      <td>std</td>\n",
       "      <td>four</td>\n",
       "      <td>sedan</td>\n",
       "      <td>fwd</td>\n",
       "      <td>105,8</td>\n",
       "      <td>...</td>\n",
       "      <td>136</td>\n",
       "      <td>mpfi</td>\n",
       "      <td>3,19</td>\n",
       "      <td>3,4</td>\n",
       "      <td>8,5</td>\n",
       "      <td>110</td>\n",
       "      <td>5500</td>\n",
       "      <td>19</td>\n",
       "      <td>25</td>\n",
       "      <td>17710</td>\n",
       "    </tr>\n",
       "    <tr>\n",
       "      <th>3</th>\n",
       "      <td>4</td>\n",
       "      <td>1</td>\n",
       "      <td>158</td>\n",
       "      <td>audi</td>\n",
       "      <td>gas</td>\n",
       "      <td>turbo</td>\n",
       "      <td>four</td>\n",
       "      <td>sedan</td>\n",
       "      <td>fwd</td>\n",
       "      <td>105,8</td>\n",
       "      <td>...</td>\n",
       "      <td>131</td>\n",
       "      <td>mpfi</td>\n",
       "      <td>3,13</td>\n",
       "      <td>3,4</td>\n",
       "      <td>8,3</td>\n",
       "      <td>140</td>\n",
       "      <td>5500</td>\n",
       "      <td>17</td>\n",
       "      <td>20</td>\n",
       "      <td>23875</td>\n",
       "    </tr>\n",
       "    <tr>\n",
       "      <th>4</th>\n",
       "      <td>5</td>\n",
       "      <td>2</td>\n",
       "      <td>192</td>\n",
       "      <td>bmw</td>\n",
       "      <td>gas</td>\n",
       "      <td>std</td>\n",
       "      <td>two</td>\n",
       "      <td>sedan</td>\n",
       "      <td>rwd</td>\n",
       "      <td>101,2</td>\n",
       "      <td>...</td>\n",
       "      <td>108</td>\n",
       "      <td>mpfi</td>\n",
       "      <td>3,5</td>\n",
       "      <td>2,8</td>\n",
       "      <td>8,8</td>\n",
       "      <td>101</td>\n",
       "      <td>5800</td>\n",
       "      <td>23</td>\n",
       "      <td>29</td>\n",
       "      <td>16430</td>\n",
       "    </tr>\n",
       "  </tbody>\n",
       "</table>\n",
       "<p>5 rows × 26 columns</p>\n",
       "</div>"
      ],
      "text/plain": [
       "   SiraNo  RiskDerecesi  KayipDegeri Uretici YakitTuru Enjeksiyon KapiSayisi  \\\n",
       "0       1             2          164    audi       gas        std       four   \n",
       "1       2             2          164    audi       gas        std       four   \n",
       "2       3             1          158    audi       gas        std       four   \n",
       "3       4             1          158    audi       gas      turbo       four   \n",
       "4       5             2          192     bmw       gas        std        two   \n",
       "\n",
       "  GovdeTuru Cekis DingilAcikligi  ... MotorHacmi YakitSistemi SilindirCapi  \\\n",
       "0     sedan   fwd           99,8  ...        109         mpfi         3,19   \n",
       "1     sedan   4wd           99,4  ...        136         mpfi         3,19   \n",
       "2     sedan   fwd          105,8  ...        136         mpfi         3,19   \n",
       "3     sedan   fwd          105,8  ...        131         mpfi         3,13   \n",
       "4     sedan   rwd          101,2  ...        108         mpfi          3,5   \n",
       "\n",
       "   Zamanlama SikistirmaOrani BeygirGucu  MaximumDevir SehirIciHarcama  \\\n",
       "0        3,4              10        102          5500              24   \n",
       "1        3,4               8        115          5500              18   \n",
       "2        3,4             8,5        110          5500              19   \n",
       "3        3,4             8,3        140          5500              17   \n",
       "4        2,8             8,8        101          5800              23   \n",
       "\n",
       "  SehirDisiHarcama  Fiyat  \n",
       "0               30  13950  \n",
       "1               22  17450  \n",
       "2               25  17710  \n",
       "3               20  23875  \n",
       "4               29  16430  \n",
       "\n",
       "[5 rows x 26 columns]"
      ]
     },
     "execution_count": 131,
     "metadata": {},
     "output_type": "execute_result"
    }
   ],
   "source": [
    "cars = pd.read_excel(\"datasets/imports-85.xlsx\")\n",
    "cars.head()"
   ]
  },
  {
   "cell_type": "code",
   "execution_count": 133,
   "id": "b94d038b-9d78-4fa6-a812-7eb9df670946",
   "metadata": {},
   "outputs": [
    {
     "name": "stdout",
     "output_type": "stream",
     "text": [
      "<class 'pandas.core.frame.DataFrame'>\n",
      "RangeIndex: 159 entries, 0 to 158\n",
      "Data columns (total 26 columns):\n",
      " #   Column            Non-Null Count  Dtype \n",
      "---  ------            --------------  ----- \n",
      " 0   SiraNo            159 non-null    int64 \n",
      " 1   RiskDerecesi      159 non-null    int64 \n",
      " 2   KayipDegeri       159 non-null    int64 \n",
      " 3   Uretici           159 non-null    object\n",
      " 4   YakitTuru         159 non-null    object\n",
      " 5   Enjeksiyon        159 non-null    object\n",
      " 6   KapiSayisi        159 non-null    object\n",
      " 7   GovdeTuru         159 non-null    object\n",
      " 8   Cekis             159 non-null    object\n",
      " 9   DingilAcikligi    159 non-null    object\n",
      " 10  Uzunluk           159 non-null    object\n",
      " 11  Genislik          159 non-null    object\n",
      " 12  Yukseklik         159 non-null    object\n",
      " 13  AzamiAgirlik      159 non-null    int64 \n",
      " 14  MotorTuru         159 non-null    object\n",
      " 15  SilindirSayisi    159 non-null    object\n",
      " 16  MotorHacmi        159 non-null    int64 \n",
      " 17  YakitSistemi      159 non-null    object\n",
      " 18  SilindirCapi      159 non-null    object\n",
      " 19  Zamanlama         159 non-null    object\n",
      " 20  SikistirmaOrani   159 non-null    object\n",
      " 21  BeygirGucu        159 non-null    int64 \n",
      " 22  MaximumDevir      159 non-null    int64 \n",
      " 23  SehirIciHarcama   159 non-null    int64 \n",
      " 24  SehirDisiHarcama  159 non-null    int64 \n",
      " 25  Fiyat             159 non-null    int64 \n",
      "dtypes: int64(10), object(16)\n",
      "memory usage: 32.4+ KB\n"
     ]
    }
   ],
   "source": [
    "cars.info()"
   ]
  },
  {
   "cell_type": "code",
   "execution_count": 134,
   "id": "a4e02cc7-0d8e-4736-806b-e7f5443671ba",
   "metadata": {},
   "outputs": [
    {
     "data": {
      "text/plain": [
       "SiraNo              False\n",
       "RiskDerecesi        False\n",
       "KayipDegeri         False\n",
       "Uretici             False\n",
       "YakitTuru           False\n",
       "Enjeksiyon          False\n",
       "KapiSayisi          False\n",
       "GovdeTuru           False\n",
       "Cekis               False\n",
       "DingilAcikligi      False\n",
       "Uzunluk             False\n",
       "Genislik            False\n",
       "Yukseklik           False\n",
       "AzamiAgirlik        False\n",
       "MotorTuru           False\n",
       "SilindirSayisi      False\n",
       "MotorHacmi          False\n",
       "YakitSistemi        False\n",
       "SilindirCapi        False\n",
       "Zamanlama           False\n",
       "SikistirmaOrani     False\n",
       "BeygirGucu          False\n",
       "MaximumDevir        False\n",
       "SehirIciHarcama     False\n",
       "SehirDisiHarcama    False\n",
       "Fiyat               False\n",
       "dtype: bool"
      ]
     },
     "execution_count": 134,
     "metadata": {},
     "output_type": "execute_result"
    }
   ],
   "source": [
    "cars.isnull().any()"
   ]
  },
  {
   "cell_type": "markdown",
   "id": "8345cb3f-b34f-495e-ab13-96806e9f8ec2",
   "metadata": {},
   "source": [
    "Veride herhangi bir nan değer bulunmamaktadır."
   ]
  },
  {
   "cell_type": "code",
   "execution_count": 135,
   "id": "763c4141-44ba-48a1-850a-6415b264c2a1",
   "metadata": {},
   "outputs": [
    {
     "data": {
      "text/html": [
       "<div>\n",
       "<style scoped>\n",
       "    .dataframe tbody tr th:only-of-type {\n",
       "        vertical-align: middle;\n",
       "    }\n",
       "\n",
       "    .dataframe tbody tr th {\n",
       "        vertical-align: top;\n",
       "    }\n",
       "\n",
       "    .dataframe thead th {\n",
       "        text-align: right;\n",
       "    }\n",
       "</style>\n",
       "<table border=\"1\" class=\"dataframe\">\n",
       "  <thead>\n",
       "    <tr style=\"text-align: right;\">\n",
       "      <th></th>\n",
       "      <th>count</th>\n",
       "      <th>mean</th>\n",
       "      <th>std</th>\n",
       "      <th>min</th>\n",
       "      <th>25%</th>\n",
       "      <th>50%</th>\n",
       "      <th>75%</th>\n",
       "      <th>max</th>\n",
       "    </tr>\n",
       "  </thead>\n",
       "  <tbody>\n",
       "    <tr>\n",
       "      <th>SiraNo</th>\n",
       "      <td>159.0</td>\n",
       "      <td>80.000000</td>\n",
       "      <td>46.043458</td>\n",
       "      <td>1.0</td>\n",
       "      <td>40.5</td>\n",
       "      <td>80.0</td>\n",
       "      <td>119.5</td>\n",
       "      <td>159.0</td>\n",
       "    </tr>\n",
       "    <tr>\n",
       "      <th>RiskDerecesi</th>\n",
       "      <td>159.0</td>\n",
       "      <td>0.735849</td>\n",
       "      <td>1.193086</td>\n",
       "      <td>-2.0</td>\n",
       "      <td>0.0</td>\n",
       "      <td>1.0</td>\n",
       "      <td>2.0</td>\n",
       "      <td>3.0</td>\n",
       "    </tr>\n",
       "    <tr>\n",
       "      <th>KayipDegeri</th>\n",
       "      <td>159.0</td>\n",
       "      <td>121.132075</td>\n",
       "      <td>35.651285</td>\n",
       "      <td>65.0</td>\n",
       "      <td>94.0</td>\n",
       "      <td>113.0</td>\n",
       "      <td>148.0</td>\n",
       "      <td>256.0</td>\n",
       "    </tr>\n",
       "    <tr>\n",
       "      <th>AzamiAgirlik</th>\n",
       "      <td>159.0</td>\n",
       "      <td>2461.138365</td>\n",
       "      <td>481.941321</td>\n",
       "      <td>1488.0</td>\n",
       "      <td>2065.5</td>\n",
       "      <td>2340.0</td>\n",
       "      <td>2809.5</td>\n",
       "      <td>4066.0</td>\n",
       "    </tr>\n",
       "    <tr>\n",
       "      <th>MotorHacmi</th>\n",
       "      <td>159.0</td>\n",
       "      <td>119.226415</td>\n",
       "      <td>30.460791</td>\n",
       "      <td>61.0</td>\n",
       "      <td>97.0</td>\n",
       "      <td>110.0</td>\n",
       "      <td>135.0</td>\n",
       "      <td>258.0</td>\n",
       "    </tr>\n",
       "    <tr>\n",
       "      <th>BeygirGucu</th>\n",
       "      <td>159.0</td>\n",
       "      <td>95.836478</td>\n",
       "      <td>30.718583</td>\n",
       "      <td>48.0</td>\n",
       "      <td>69.0</td>\n",
       "      <td>88.0</td>\n",
       "      <td>114.0</td>\n",
       "      <td>200.0</td>\n",
       "    </tr>\n",
       "    <tr>\n",
       "      <th>MaximumDevir</th>\n",
       "      <td>159.0</td>\n",
       "      <td>5113.836478</td>\n",
       "      <td>465.754864</td>\n",
       "      <td>4150.0</td>\n",
       "      <td>4800.0</td>\n",
       "      <td>5200.0</td>\n",
       "      <td>5500.0</td>\n",
       "      <td>6600.0</td>\n",
       "    </tr>\n",
       "    <tr>\n",
       "      <th>SehirIciHarcama</th>\n",
       "      <td>159.0</td>\n",
       "      <td>26.522013</td>\n",
       "      <td>6.097142</td>\n",
       "      <td>15.0</td>\n",
       "      <td>23.0</td>\n",
       "      <td>26.0</td>\n",
       "      <td>31.0</td>\n",
       "      <td>49.0</td>\n",
       "    </tr>\n",
       "    <tr>\n",
       "      <th>SehirDisiHarcama</th>\n",
       "      <td>159.0</td>\n",
       "      <td>32.081761</td>\n",
       "      <td>6.459189</td>\n",
       "      <td>18.0</td>\n",
       "      <td>28.0</td>\n",
       "      <td>32.0</td>\n",
       "      <td>37.0</td>\n",
       "      <td>54.0</td>\n",
       "    </tr>\n",
       "    <tr>\n",
       "      <th>Fiyat</th>\n",
       "      <td>159.0</td>\n",
       "      <td>11445.729560</td>\n",
       "      <td>5877.856195</td>\n",
       "      <td>5118.0</td>\n",
       "      <td>7372.0</td>\n",
       "      <td>9233.0</td>\n",
       "      <td>14719.5</td>\n",
       "      <td>35056.0</td>\n",
       "    </tr>\n",
       "  </tbody>\n",
       "</table>\n",
       "</div>"
      ],
      "text/plain": [
       "                  count          mean          std     min     25%     50%  \\\n",
       "SiraNo            159.0     80.000000    46.043458     1.0    40.5    80.0   \n",
       "RiskDerecesi      159.0      0.735849     1.193086    -2.0     0.0     1.0   \n",
       "KayipDegeri       159.0    121.132075    35.651285    65.0    94.0   113.0   \n",
       "AzamiAgirlik      159.0   2461.138365   481.941321  1488.0  2065.5  2340.0   \n",
       "MotorHacmi        159.0    119.226415    30.460791    61.0    97.0   110.0   \n",
       "BeygirGucu        159.0     95.836478    30.718583    48.0    69.0    88.0   \n",
       "MaximumDevir      159.0   5113.836478   465.754864  4150.0  4800.0  5200.0   \n",
       "SehirIciHarcama   159.0     26.522013     6.097142    15.0    23.0    26.0   \n",
       "SehirDisiHarcama  159.0     32.081761     6.459189    18.0    28.0    32.0   \n",
       "Fiyat             159.0  11445.729560  5877.856195  5118.0  7372.0  9233.0   \n",
       "\n",
       "                      75%      max  \n",
       "SiraNo              119.5    159.0  \n",
       "RiskDerecesi          2.0      3.0  \n",
       "KayipDegeri         148.0    256.0  \n",
       "AzamiAgirlik       2809.5   4066.0  \n",
       "MotorHacmi          135.0    258.0  \n",
       "BeygirGucu          114.0    200.0  \n",
       "MaximumDevir       5500.0   6600.0  \n",
       "SehirIciHarcama      31.0     49.0  \n",
       "SehirDisiHarcama     37.0     54.0  \n",
       "Fiyat             14719.5  35056.0  "
      ]
     },
     "execution_count": 135,
     "metadata": {},
     "output_type": "execute_result"
    }
   ],
   "source": [
    "cars.describe().T"
   ]
  },
  {
   "cell_type": "code",
   "execution_count": 147,
   "id": "969be30f-d264-4ec0-a417-6e20b0fb2c83",
   "metadata": {},
   "outputs": [
    {
     "data": {
      "text/plain": [
       "<AxesSubplot:xlabel='Uretici', ylabel='count'>"
      ]
     },
     "execution_count": 147,
     "metadata": {},
     "output_type": "execute_result"
    },
    {
     "data": {
      "image/png": "[encoded data removed]",
      "text/plain": [
       "<Figure size 1440x360 with 1 Axes>"
      ]
     },
     "metadata": {
      "needs_background": "light"
     },
     "output_type": "display_data"
    }
   ],
   "source": [
    "objects = cars.select_dtypes(include=[\"object\"])\n",
    "\n",
    "features= [\"DingilAcikligi\",\"Uzunluk\",\"Genislik\",\"Yukseklik\",\"SilindirCapi\",\"Zamanlama\",\"SikistirmaOrani\"]\n",
    "objects=objects.drop(features,axis=1)\n",
    "\n",
    "\n",
    "plt.figure(figsize=(20,5))\n",
    "sns.countplot(objects[\"Uretici\"])\n"
   ]
  },
  {
   "cell_type": "code",
   "execution_count": 148,
   "id": "6f29bc0b-d571-4509-8893-e9d519ca0077",
   "metadata": {},
   "outputs": [],
   "source": [
    "# TOYOTA"
   ]
  },
  {
   "cell_type": "code",
   "execution_count": 152,
   "id": "8c77b40b-7883-44bd-913b-ea392f4553a2",
   "metadata": {
    "tags": []
   },
   "outputs": [
    {
     "data": {
      "image/png": "[encoded data removed]",
      "text/plain": [
       "<Figure size 432x288 with 1 Axes>"
      ]
     },
     "metadata": {
      "needs_background": "light"
     },
     "output_type": "display_data"
    },
    {
     "data": {
      "image/png": "[encoded data removed]",
      "text/plain": [
       "<Figure size 432x288 with 1 Axes>"
      ]
     },
     "metadata": {
      "needs_background": "light"
     },
     "output_type": "display_data"
    },
    {
     "data": {
      "image/png": "[encoded data removed]",
      "text/plain": [
       "<Figure size 432x288 with 1 Axes>"
      ]
     },
     "metadata": {
      "needs_background": "light"
     },
     "output_type": "display_data"
    },
    {
     "data": {
      "image/png": "[encoded data removed]",
      "text/plain": [
       "<Figure size 432x288 with 1 Axes>"
      ]
     },
     "metadata": {
      "needs_background": "light"
     },
     "output_type": "display_data"
    },
    {
     "data": {
      "image/png": "[encoded data removed]",
      "text/plain": [
       "<Figure size 432x288 with 1 Axes>"
      ]
     },
     "metadata": {
      "needs_background": "light"
     },
     "output_type": "display_data"
    },
    {
     "data": {
      "image/png": "[encoded data removed]",
      "text/plain": [
       "<Figure size 432x288 with 1 Axes>"
      ]
     },
     "metadata": {
      "needs_background": "light"
     },
     "output_type": "display_data"
    },
    {
     "data": {
      "image/png": "[encoded data removed]",
      "text/plain": [
       "<Figure size 432x288 with 1 Axes>"
      ]
     },
     "metadata": {
      "needs_background": "light"
     },
     "output_type": "display_data"
    },
    {
     "data": {
      "image/png": "[encoded data removed]",
      "text/plain": [
       "<Figure size 432x288 with 1 Axes>"
      ]
     },
     "metadata": {
      "needs_background": "light"
     },
     "output_type": "display_data"
    }
   ],
   "source": [
    "toyota = objects[(objects[\"Uretici\"]==\"toyota\")]\n",
    "cols = list(objects.columns)\n",
    "del cols[0]\n",
    "for i in cols:\n",
    "    plt.figure(i)\n",
    "    sns.countplot(toyota[i])"
   ]
  },
  {
   "cell_type": "code",
   "execution_count": 149,
   "id": "e69e70ec-7da0-49df-ab86-94377fdc464d",
   "metadata": {},
   "outputs": [],
   "source": [
    "# NİSSAN"
   ]
  },
  {
   "cell_type": "code",
   "execution_count": 153,
   "id": "3849d82a-d43f-4e81-bbc9-3fe6178ea8cf",
   "metadata": {
    "tags": []
   },
   "outputs": [
    {
     "data": {
      "image/png": "[encoded data removed]",
      "text/plain": [
       "<Figure size 432x288 with 1 Axes>"
      ]
     },
     "metadata": {
      "needs_background": "light"
     },
     "output_type": "display_data"
    },
    {
     "data": {
      "image/png": "[encoded data removed]",
      "text/plain": [
       "<Figure size 432x288 with 1 Axes>"
      ]
     },
     "metadata": {
      "needs_background": "light"
     },
     "output_type": "display_data"
    },
    {
     "data": {
      "image/png": "[encoded data removed]",
      "text/plain": [
       "<Figure size 432x288 with 1 Axes>"
      ]
     },
     "metadata": {
      "needs_background": "light"
     },
     "output_type": "display_data"
    },
    {
     "data": {
      "image/png": "[encoded data removed]",
      "text/plain": [
       "<Figure size 432x288 with 1 Axes>"
      ]
     },
     "metadata": {
      "needs_background": "light"
     },
     "output_type": "display_data"
    },
    {
     "data": {
      "image/png": "[encoded data removed]",
      "text/plain": [
       "<Figure size 432x288 with 1 Axes>"
      ]
     },
     "metadata": {
      "needs_background": "light"
     },
     "output_type": "display_data"
    },
    {
     "data": {
      "image/png": "[encoded data removed]",
      "text/plain": [
       "<Figure size 432x288 with 1 Axes>"
      ]
     },
     "metadata": {
      "needs_background": "light"
     },
     "output_type": "display_data"
    },
    {
     "data": {
      "image/png": "[encoded data removed]",
      "text/plain": [
       "<Figure size 432x288 with 1 Axes>"
      ]
     },
     "metadata": {
      "needs_background": "light"
     },
     "output_type": "display_data"
    },
    {
     "data": {
      "image/png": "[encoded data removed]",
      "text/plain": [
       "<Figure size 432x288 with 1 Axes>"
      ]
     },
     "metadata": {
      "needs_background": "light"
     },
     "output_type": "display_data"
    }
   ],
   "source": [
    "nissan = objects[(objects[\"Uretici\"]==\"nissan\")]\n",
    "cols = list(objects.columns)\n",
    "del cols[0]\n",
    "for i in cols:\n",
    "    plt.figure(i)\n",
    "    sns.countplot(nissan[i])"
   ]
  },
  {
   "cell_type": "code",
   "execution_count": 150,
   "id": "f707f8f6-debe-4d42-9547-aacb75b4d75e",
   "metadata": {},
   "outputs": [],
   "source": [
    "# HONDA"
   ]
  },
  {
   "cell_type": "code",
   "execution_count": 157,
   "id": "e856e179-f0f0-428c-b21b-7db89da3c2f5",
   "metadata": {
    "tags": []
   },
   "outputs": [
    {
     "data": {
      "image/png": "[encoded data removed]",
      "text/plain": [
       "<Figure size 432x288 with 1 Axes>"
      ]
     },
     "metadata": {
      "needs_background": "light"
     },
     "output_type": "display_data"
    },
    {
     "data": {
      "image/png": "[encoded data removed]",
      "text/plain": [
       "<Figure size 432x288 with 1 Axes>"
      ]
     },
     "metadata": {
      "needs_background": "light"
     },
     "output_type": "display_data"
    },
    {
     "data": {
      "image/png": "[encoded data removed]",
      "text/plain": [
       "<Figure size 432x288 with 1 Axes>"
      ]
     },
     "metadata": {
      "needs_background": "light"
     },
     "output_type": "display_data"
    },
    {
     "data": {
      "image/png": "[encoded data removed]",
      "text/plain": [
       "<Figure size 432x288 with 1 Axes>"
      ]
     },
     "metadata": {
      "needs_background": "light"
     },
     "output_type": "display_data"
    },
    {
     "data": {
      "image/png": "[encoded data removed]",
      "text/plain": [
       "<Figure size 432x288 with 1 Axes>"
      ]
     },
     "metadata": {
      "needs_background": "light"
     },
     "output_type": "display_data"
    },
    {
     "data": {
      "image/png": "[encoded data removed]",
      "text/plain": [
       "<Figure size 432x288 with 1 Axes>"
      ]
     },
     "metadata": {
      "needs_background": "light"
     },
     "output_type": "display_data"
    },
    {
     "data": {
      "image/png": "[encoded data removed]",
      "text/plain": [
       "<Figure size 432x288 with 1 Axes>"
      ]
     },
     "metadata": {
      "needs_background": "light"
     },
     "output_type": "display_data"
    },
    {
     "data": {
      "image/png": "[encoded data removed]",
      "text/plain": [
       "<Figure size 432x288 with 1 Axes>"
      ]
     },
     "metadata": {
      "needs_background": "light"
     },
     "output_type": "display_data"
    }
   ],
   "source": [
    "honda = objects[(objects[\"Uretici\"]==\"honda\")]\n",
    "cols = list(objects.columns)\n",
    "del cols[0]\n",
    "for i in cols:\n",
    "    plt.figure(i)\n",
    "    sns.countplot(honda[i])"
   ]
  },
  {
   "cell_type": "code",
   "execution_count": 137,
   "id": "c52f3318-4ddb-466f-8ed2-c2c1f0c70202",
   "metadata": {},
   "outputs": [],
   "source": [
    "#ilişki"
   ]
  },
  {
   "cell_type": "code",
   "execution_count": 138,
   "id": "095721a4-9f70-464c-b4ee-df1e655fab71",
   "metadata": {},
   "outputs": [
    {
     "data": {
      "text/html": [
       "<div>\n",
       "<style scoped>\n",
       "    .dataframe tbody tr th:only-of-type {\n",
       "        vertical-align: middle;\n",
       "    }\n",
       "\n",
       "    .dataframe tbody tr th {\n",
       "        vertical-align: top;\n",
       "    }\n",
       "\n",
       "    .dataframe thead th {\n",
       "        text-align: right;\n",
       "    }\n",
       "</style>\n",
       "<table border=\"1\" class=\"dataframe\">\n",
       "  <thead>\n",
       "    <tr style=\"text-align: right;\">\n",
       "      <th></th>\n",
       "      <th>SiraNo</th>\n",
       "      <th>RiskDerecesi</th>\n",
       "      <th>KayipDegeri</th>\n",
       "      <th>AzamiAgirlik</th>\n",
       "      <th>MotorHacmi</th>\n",
       "      <th>BeygirGucu</th>\n",
       "      <th>MaximumDevir</th>\n",
       "      <th>SehirIciHarcama</th>\n",
       "      <th>SehirDisiHarcama</th>\n",
       "      <th>Fiyat</th>\n",
       "    </tr>\n",
       "  </thead>\n",
       "  <tbody>\n",
       "    <tr>\n",
       "      <th>SiraNo</th>\n",
       "      <td>1.000000</td>\n",
       "      <td>-0.155308</td>\n",
       "      <td>-0.254979</td>\n",
       "      <td>0.223099</td>\n",
       "      <td>0.115606</td>\n",
       "      <td>0.146344</td>\n",
       "      <td>-0.253977</td>\n",
       "      <td>-0.130918</td>\n",
       "      <td>-0.134774</td>\n",
       "      <td>0.043218</td>\n",
       "    </tr>\n",
       "    <tr>\n",
       "      <th>RiskDerecesi</th>\n",
       "      <td>-0.155308</td>\n",
       "      <td>1.000000</td>\n",
       "      <td>0.518344</td>\n",
       "      <td>-0.251880</td>\n",
       "      <td>-0.109453</td>\n",
       "      <td>-0.003949</td>\n",
       "      <td>0.199106</td>\n",
       "      <td>0.089550</td>\n",
       "      <td>0.149830</td>\n",
       "      <td>-0.162794</td>\n",
       "    </tr>\n",
       "    <tr>\n",
       "      <th>KayipDegeri</th>\n",
       "      <td>-0.254979</td>\n",
       "      <td>0.518344</td>\n",
       "      <td>1.000000</td>\n",
       "      <td>0.125858</td>\n",
       "      <td>0.207820</td>\n",
       "      <td>0.290511</td>\n",
       "      <td>0.237697</td>\n",
       "      <td>-0.235523</td>\n",
       "      <td>-0.188564</td>\n",
       "      <td>0.202761</td>\n",
       "    </tr>\n",
       "    <tr>\n",
       "      <th>AzamiAgirlik</th>\n",
       "      <td>0.223099</td>\n",
       "      <td>-0.251880</td>\n",
       "      <td>0.125858</td>\n",
       "      <td>1.000000</td>\n",
       "      <td>0.888626</td>\n",
       "      <td>0.790095</td>\n",
       "      <td>-0.259988</td>\n",
       "      <td>-0.762155</td>\n",
       "      <td>-0.789338</td>\n",
       "      <td>0.893639</td>\n",
       "    </tr>\n",
       "    <tr>\n",
       "      <th>MotorHacmi</th>\n",
       "      <td>0.115606</td>\n",
       "      <td>-0.109453</td>\n",
       "      <td>0.207820</td>\n",
       "      <td>0.888626</td>\n",
       "      <td>1.000000</td>\n",
       "      <td>0.812073</td>\n",
       "      <td>-0.284686</td>\n",
       "      <td>-0.699139</td>\n",
       "      <td>-0.714095</td>\n",
       "      <td>0.841496</td>\n",
       "    </tr>\n",
       "    <tr>\n",
       "      <th>BeygirGucu</th>\n",
       "      <td>0.146344</td>\n",
       "      <td>-0.003949</td>\n",
       "      <td>0.290511</td>\n",
       "      <td>0.790095</td>\n",
       "      <td>0.812073</td>\n",
       "      <td>1.000000</td>\n",
       "      <td>0.074057</td>\n",
       "      <td>-0.837214</td>\n",
       "      <td>-0.827941</td>\n",
       "      <td>0.759874</td>\n",
       "    </tr>\n",
       "    <tr>\n",
       "      <th>MaximumDevir</th>\n",
       "      <td>-0.253977</td>\n",
       "      <td>0.199106</td>\n",
       "      <td>0.237697</td>\n",
       "      <td>-0.259988</td>\n",
       "      <td>-0.284686</td>\n",
       "      <td>0.074057</td>\n",
       "      <td>1.000000</td>\n",
       "      <td>-0.052929</td>\n",
       "      <td>-0.032777</td>\n",
       "      <td>-0.171916</td>\n",
       "    </tr>\n",
       "    <tr>\n",
       "      <th>SehirIciHarcama</th>\n",
       "      <td>-0.130918</td>\n",
       "      <td>0.089550</td>\n",
       "      <td>-0.235523</td>\n",
       "      <td>-0.762155</td>\n",
       "      <td>-0.699139</td>\n",
       "      <td>-0.837214</td>\n",
       "      <td>-0.052929</td>\n",
       "      <td>1.000000</td>\n",
       "      <td>0.971999</td>\n",
       "      <td>-0.692273</td>\n",
       "    </tr>\n",
       "    <tr>\n",
       "      <th>SehirDisiHarcama</th>\n",
       "      <td>-0.134774</td>\n",
       "      <td>0.149830</td>\n",
       "      <td>-0.188564</td>\n",
       "      <td>-0.789338</td>\n",
       "      <td>-0.714095</td>\n",
       "      <td>-0.827941</td>\n",
       "      <td>-0.032777</td>\n",
       "      <td>0.971999</td>\n",
       "      <td>1.000000</td>\n",
       "      <td>-0.720090</td>\n",
       "    </tr>\n",
       "    <tr>\n",
       "      <th>Fiyat</th>\n",
       "      <td>0.043218</td>\n",
       "      <td>-0.162794</td>\n",
       "      <td>0.202761</td>\n",
       "      <td>0.893639</td>\n",
       "      <td>0.841496</td>\n",
       "      <td>0.759874</td>\n",
       "      <td>-0.171916</td>\n",
       "      <td>-0.692273</td>\n",
       "      <td>-0.720090</td>\n",
       "      <td>1.000000</td>\n",
       "    </tr>\n",
       "  </tbody>\n",
       "</table>\n",
       "</div>"
      ],
      "text/plain": [
       "                    SiraNo  RiskDerecesi  KayipDegeri  AzamiAgirlik  \\\n",
       "SiraNo            1.000000     -0.155308    -0.254979      0.223099   \n",
       "RiskDerecesi     -0.155308      1.000000     0.518344     -0.251880   \n",
       "KayipDegeri      -0.254979      0.518344     1.000000      0.125858   \n",
       "AzamiAgirlik      0.223099     -0.251880     0.125858      1.000000   \n",
       "MotorHacmi        0.115606     -0.109453     0.207820      0.888626   \n",
       "BeygirGucu        0.146344     -0.003949     0.290511      0.790095   \n",
       "MaximumDevir     -0.253977      0.199106     0.237697     -0.259988   \n",
       "SehirIciHarcama  -0.130918      0.089550    -0.235523     -0.762155   \n",
       "SehirDisiHarcama -0.134774      0.149830    -0.188564     -0.789338   \n",
       "Fiyat             0.043218     -0.162794     0.202761      0.893639   \n",
       "\n",
       "                  MotorHacmi  BeygirGucu  MaximumDevir  SehirIciHarcama  \\\n",
       "SiraNo              0.115606    0.146344     -0.253977        -0.130918   \n",
       "RiskDerecesi       -0.109453   -0.003949      0.199106         0.089550   \n",
       "KayipDegeri         0.207820    0.290511      0.237697        -0.235523   \n",
       "AzamiAgirlik        0.888626    0.790095     -0.259988        -0.762155   \n",
       "MotorHacmi          1.000000    0.812073     -0.284686        -0.699139   \n",
       "BeygirGucu          0.812073    1.000000      0.074057        -0.837214   \n",
       "MaximumDevir       -0.284686    0.074057      1.000000        -0.052929   \n",
       "SehirIciHarcama    -0.699139   -0.837214     -0.052929         1.000000   \n",
       "SehirDisiHarcama   -0.714095   -0.827941     -0.032777         0.971999   \n",
       "Fiyat               0.841496    0.759874     -0.171916        -0.692273   \n",
       "\n",
       "                  SehirDisiHarcama     Fiyat  \n",
       "SiraNo                   -0.134774  0.043218  \n",
       "RiskDerecesi              0.149830 -0.162794  \n",
       "KayipDegeri              -0.188564  0.202761  \n",
       "AzamiAgirlik             -0.789338  0.893639  \n",
       "MotorHacmi               -0.714095  0.841496  \n",
       "BeygirGucu               -0.827941  0.759874  \n",
       "MaximumDevir             -0.032777 -0.171916  \n",
       "SehirIciHarcama           0.971999 -0.692273  \n",
       "SehirDisiHarcama          1.000000 -0.720090  \n",
       "Fiyat                    -0.720090  1.000000  "
      ]
     },
     "execution_count": 138,
     "metadata": {},
     "output_type": "execute_result"
    }
   ],
   "source": [
    "cars_corr=cars.corr()\n",
    "cars_corr"
   ]
  },
  {
   "cell_type": "code",
   "execution_count": 139,
   "id": "a9aa2483-76af-4ea2-b97c-ae54402c1ccf",
   "metadata": {},
   "outputs": [
    {
     "data": {
      "text/plain": [
       "SiraNo              0.043218\n",
       "RiskDerecesi       -0.162794\n",
       "KayipDegeri         0.202761\n",
       "AzamiAgirlik        0.893639\n",
       "MotorHacmi          0.841496\n",
       "BeygirGucu          0.759874\n",
       "MaximumDevir       -0.171916\n",
       "SehirIciHarcama    -0.692273\n",
       "SehirDisiHarcama   -0.720090\n",
       "Fiyat               1.000000\n",
       "Name: Fiyat, dtype: float64"
      ]
     },
     "execution_count": 139,
     "metadata": {},
     "output_type": "execute_result"
    }
   ],
   "source": [
    "col_corr = cars_corr.columns\n",
    "cars_corr[(cars_corr[col_corr] > -1)][\"Fiyat\"]"
   ]
  },
  {
   "cell_type": "code",
   "execution_count": 158,
   "id": "eedca1b3-ec11-457f-9774-4ef89af1503a",
   "metadata": {},
   "outputs": [
    {
     "data": {
      "text/plain": [
       "<AxesSubplot:xlabel='AzamiAgirlik', ylabel='Fiyat'>"
      ]
     },
     "execution_count": 158,
     "metadata": {},
     "output_type": "execute_result"
    },
    {
     "data": {
      "image/png": "[encoded data removed]",
      "text/plain": [
       "<Figure size 432x288 with 1 Axes>"
      ]
     },
     "metadata": {
      "needs_background": "light"
     },
     "output_type": "display_data"
    }
   ],
   "source": [
    "sns.regplot(cars[\"AzamiAgirlik\"],cars[\"Fiyat\"],data=cars)"
   ]
  },
  {
   "cell_type": "markdown",
   "id": "abf19fa6-fca1-4a81-b14b-1d7cf9937978",
   "metadata": {},
   "source": [
    "Fiyat değişkenini ile AzamiAğırlık değişkeni arasında %89 pozitif yönde ilişkili olduğu gözlemlenmektedir. "
   ]
  },
  {
   "cell_type": "code",
   "execution_count": null,
   "id": "f8919f20-342b-45ed-a002-0f8ff512fc6f",
   "metadata": {},
   "outputs": [],
   "source": [
    "#Artık veriler"
   ]
  },
  {
   "cell_type": "code",
   "execution_count": 159,
   "id": "0c528645-6f21-45e2-bda1-46b5862546b3",
   "metadata": {},
   "outputs": [
    {
     "data": {
      "text/html": [
       "<div>\n",
       "<style scoped>\n",
       "    .dataframe tbody tr th:only-of-type {\n",
       "        vertical-align: middle;\n",
       "    }\n",
       "\n",
       "    .dataframe tbody tr th {\n",
       "        vertical-align: top;\n",
       "    }\n",
       "\n",
       "    .dataframe thead th {\n",
       "        text-align: right;\n",
       "    }\n",
       "</style>\n",
       "<table border=\"1\" class=\"dataframe\">\n",
       "  <thead>\n",
       "    <tr style=\"text-align: right;\">\n",
       "      <th></th>\n",
       "      <th>SiraNo</th>\n",
       "      <th>RiskDerecesi</th>\n",
       "      <th>KayipDegeri</th>\n",
       "      <th>Uretici</th>\n",
       "      <th>YakitTuru</th>\n",
       "      <th>Enjeksiyon</th>\n",
       "      <th>KapiSayisi</th>\n",
       "      <th>GovdeTuru</th>\n",
       "      <th>Cekis</th>\n",
       "      <th>DingilAcikligi</th>\n",
       "      <th>...</th>\n",
       "      <th>MotorHacmi</th>\n",
       "      <th>YakitSistemi</th>\n",
       "      <th>SilindirCapi</th>\n",
       "      <th>Zamanlama</th>\n",
       "      <th>SikistirmaOrani</th>\n",
       "      <th>BeygirGucu</th>\n",
       "      <th>MaximumDevir</th>\n",
       "      <th>SehirIciHarcama</th>\n",
       "      <th>SehirDisiHarcama</th>\n",
       "      <th>Fiyat</th>\n",
       "    </tr>\n",
       "  </thead>\n",
       "  <tbody>\n",
       "    <tr>\n",
       "      <th>0</th>\n",
       "      <td>1</td>\n",
       "      <td>2</td>\n",
       "      <td>164</td>\n",
       "      <td>audi</td>\n",
       "      <td>gas</td>\n",
       "      <td>std</td>\n",
       "      <td>four</td>\n",
       "      <td>sedan</td>\n",
       "      <td>fwd</td>\n",
       "      <td>99,8</td>\n",
       "      <td>...</td>\n",
       "      <td>109</td>\n",
       "      <td>mpfi</td>\n",
       "      <td>3,19</td>\n",
       "      <td>3,4</td>\n",
       "      <td>10</td>\n",
       "      <td>102</td>\n",
       "      <td>5500</td>\n",
       "      <td>24</td>\n",
       "      <td>30</td>\n",
       "      <td>13950</td>\n",
       "    </tr>\n",
       "    <tr>\n",
       "      <th>1</th>\n",
       "      <td>2</td>\n",
       "      <td>2</td>\n",
       "      <td>164</td>\n",
       "      <td>audi</td>\n",
       "      <td>gas</td>\n",
       "      <td>std</td>\n",
       "      <td>four</td>\n",
       "      <td>sedan</td>\n",
       "      <td>4wd</td>\n",
       "      <td>99,4</td>\n",
       "      <td>...</td>\n",
       "      <td>136</td>\n",
       "      <td>mpfi</td>\n",
       "      <td>3,19</td>\n",
       "      <td>3,4</td>\n",
       "      <td>8</td>\n",
       "      <td>115</td>\n",
       "      <td>5500</td>\n",
       "      <td>18</td>\n",
       "      <td>22</td>\n",
       "      <td>17450</td>\n",
       "    </tr>\n",
       "    <tr>\n",
       "      <th>2</th>\n",
       "      <td>3</td>\n",
       "      <td>1</td>\n",
       "      <td>158</td>\n",
       "      <td>audi</td>\n",
       "      <td>gas</td>\n",
       "      <td>std</td>\n",
       "      <td>four</td>\n",
       "      <td>sedan</td>\n",
       "      <td>fwd</td>\n",
       "      <td>105,8</td>\n",
       "      <td>...</td>\n",
       "      <td>136</td>\n",
       "      <td>mpfi</td>\n",
       "      <td>3,19</td>\n",
       "      <td>3,4</td>\n",
       "      <td>8,5</td>\n",
       "      <td>110</td>\n",
       "      <td>5500</td>\n",
       "      <td>19</td>\n",
       "      <td>25</td>\n",
       "      <td>17710</td>\n",
       "    </tr>\n",
       "    <tr>\n",
       "      <th>3</th>\n",
       "      <td>4</td>\n",
       "      <td>1</td>\n",
       "      <td>158</td>\n",
       "      <td>audi</td>\n",
       "      <td>gas</td>\n",
       "      <td>turbo</td>\n",
       "      <td>four</td>\n",
       "      <td>sedan</td>\n",
       "      <td>fwd</td>\n",
       "      <td>105,8</td>\n",
       "      <td>...</td>\n",
       "      <td>131</td>\n",
       "      <td>mpfi</td>\n",
       "      <td>3,13</td>\n",
       "      <td>3,4</td>\n",
       "      <td>8,3</td>\n",
       "      <td>140</td>\n",
       "      <td>5500</td>\n",
       "      <td>17</td>\n",
       "      <td>20</td>\n",
       "      <td>23875</td>\n",
       "    </tr>\n",
       "    <tr>\n",
       "      <th>4</th>\n",
       "      <td>5</td>\n",
       "      <td>2</td>\n",
       "      <td>192</td>\n",
       "      <td>bmw</td>\n",
       "      <td>gas</td>\n",
       "      <td>std</td>\n",
       "      <td>two</td>\n",
       "      <td>sedan</td>\n",
       "      <td>rwd</td>\n",
       "      <td>101,2</td>\n",
       "      <td>...</td>\n",
       "      <td>108</td>\n",
       "      <td>mpfi</td>\n",
       "      <td>3,5</td>\n",
       "      <td>2,8</td>\n",
       "      <td>8,8</td>\n",
       "      <td>101</td>\n",
       "      <td>5800</td>\n",
       "      <td>23</td>\n",
       "      <td>29</td>\n",
       "      <td>16430</td>\n",
       "    </tr>\n",
       "  </tbody>\n",
       "</table>\n",
       "<p>5 rows × 26 columns</p>\n",
       "</div>"
      ],
      "text/plain": [
       "   SiraNo  RiskDerecesi  KayipDegeri Uretici YakitTuru Enjeksiyon KapiSayisi  \\\n",
       "0       1             2          164    audi       gas        std       four   \n",
       "1       2             2          164    audi       gas        std       four   \n",
       "2       3             1          158    audi       gas        std       four   \n",
       "3       4             1          158    audi       gas      turbo       four   \n",
       "4       5             2          192     bmw       gas        std        two   \n",
       "\n",
       "  GovdeTuru Cekis DingilAcikligi  ... MotorHacmi YakitSistemi SilindirCapi  \\\n",
       "0     sedan   fwd           99,8  ...        109         mpfi         3,19   \n",
       "1     sedan   4wd           99,4  ...        136         mpfi         3,19   \n",
       "2     sedan   fwd          105,8  ...        136         mpfi         3,19   \n",
       "3     sedan   fwd          105,8  ...        131         mpfi         3,13   \n",
       "4     sedan   rwd          101,2  ...        108         mpfi          3,5   \n",
       "\n",
       "   Zamanlama SikistirmaOrani BeygirGucu  MaximumDevir SehirIciHarcama  \\\n",
       "0        3,4              10        102          5500              24   \n",
       "1        3,4               8        115          5500              18   \n",
       "2        3,4             8,5        110          5500              19   \n",
       "3        3,4             8,3        140          5500              17   \n",
       "4        2,8             8,8        101          5800              23   \n",
       "\n",
       "  SehirDisiHarcama  Fiyat  \n",
       "0               30  13950  \n",
       "1               22  17450  \n",
       "2               25  17710  \n",
       "3               20  23875  \n",
       "4               29  16430  \n",
       "\n",
       "[5 rows x 26 columns]"
      ]
     },
     "execution_count": 159,
     "metadata": {},
     "output_type": "execute_result"
    }
   ],
   "source": [
    "cars.head()"
   ]
  },
  {
   "cell_type": "code",
   "execution_count": 160,
   "id": "c5242356-8f1b-42a5-97bd-718c76495972",
   "metadata": {},
   "outputs": [
    {
     "data": {
      "text/plain": [
       "Index(['SiraNo', 'RiskDerecesi', 'KayipDegeri', 'AzamiAgirlik', 'MotorHacmi',\n",
       "       'BeygirGucu', 'MaximumDevir', 'SehirIciHarcama', 'SehirDisiHarcama',\n",
       "       'Fiyat'],\n",
       "      dtype='object')"
      ]
     },
     "execution_count": 160,
     "metadata": {},
     "output_type": "execute_result"
    }
   ],
   "source": [
    "numeric = cars.select_dtypes(exclude=[\"object\"])\n",
    "numeric.columns"
   ]
  },
  {
   "cell_type": "code",
   "execution_count": 142,
   "id": "d21ac1f4-7f77-4ee0-84a3-40bc62966f38",
   "metadata": {},
   "outputs": [
    {
     "data": {
      "image/png": "[encoded data removed]",
      "text/plain": [
       "<Figure size 432x288 with 1 Axes>"
      ]
     },
     "metadata": {
      "needs_background": "light"
     },
     "output_type": "display_data"
    },
    {
     "data": {
      "image/png": "[encoded data removed]",
      "text/plain": [
       "<Figure size 432x288 with 1 Axes>"
      ]
     },
     "metadata": {
      "needs_background": "light"
     },
     "output_type": "display_data"
    },
    {
     "data": {
      "image/png": "[encoded data removed]",
      "text/plain": [
       "<Figure size 432x288 with 1 Axes>"
      ]
     },
     "metadata": {
      "needs_background": "light"
     },
     "output_type": "display_data"
    },
    {
     "data": {
      "image/png": "[encoded data removed]",
      "text/plain": [
       "<Figure size 432x288 with 1 Axes>"
      ]
     },
     "metadata": {
      "needs_background": "light"
     },
     "output_type": "display_data"
    },
    {
     "data": {
      "image/png": "[encoded data removed]",
      "text/plain": [
       "<Figure size 432x288 with 1 Axes>"
      ]
     },
     "metadata": {
      "needs_background": "light"
     },
     "output_type": "display_data"
    },
    {
     "data": {
      "image/png": "[encoded data removed]",
      "text/plain": [
       "<Figure size 432x288 with 1 Axes>"
      ]
     },
     "metadata": {
      "needs_background": "light"
     },
     "output_type": "display_data"
    },
    {
     "data": {
      "image/png": "[encoded data removed]",
      "text/plain": [
       "<Figure size 432x288 with 1 Axes>"
      ]
     },
     "metadata": {
      "needs_background": "light"
     },
     "output_type": "display_data"
    },
    {
     "data": {
      "image/png": "[encoded data removed]",
      "text/plain": [
       "<Figure size 432x288 with 1 Axes>"
      ]
     },
     "metadata": {
      "needs_background": "light"
     },
     "output_type": "display_data"
    },
    {
     "data": {
      "image/png": "[encoded data removed]",
      "text/plain": [
       "<Figure size 432x288 with 1 Axes>"
      ]
     },
     "metadata": {
      "needs_background": "light"
     },
     "output_type": "display_data"
    },
    {
     "data": {
      "image/png": "[encoded data removed]",
      "text/plain": [
       "<Figure size 432x288 with 1 Axes>"
      ]
     },
     "metadata": {
      "needs_background": "light"
     },
     "output_type": "display_data"
    }
   ],
   "source": [
    "for i in numeric.columns:\n",
    "    plt.figure(i)\n",
    "    sns.boxplot(cars[i])"
   ]
  },
  {
   "cell_type": "code",
   "execution_count": 161,
   "id": "e87ae5fd-07aa-4939-9da0-ae4b9a42d9b1",
   "metadata": {
    "tags": []
   },
   "outputs": [],
   "source": [
    "def aykırı(veri):\n",
    "    Q1 = veri.quantile(0.25)\n",
    "    Q3 = veri.quantile(0.75)\n",
    "    IQR = Q3-Q1\n",
    "    alt_sinir = Q1 - 1.5*IQR\n",
    "    ust_sinir = Q3 + 1.5*IQR\n",
    "\n",
    "    alt_aykiri = (veri<(alt_sinir))\n",
    "    ust_aykiri = (veri>(ust_sinir))\n",
    "    tum_aykiri = (alt_aykiri | ust_aykiri)\n",
    "    print(\"Toplam Gozlem Sayisi :\",veri.shape[0])\n",
    "    print(\"Alt sınır değeri :\"+ \"%2f\" % (alt_sinir))\n",
    "    print(\"Üst sınır değeri :\"+ \"%2f\" % (ust_sinir))\n",
    "    print(\"Toplam Aykırı Gözlem : \" ,veri[alt_aykiri].shape[0]+veri[ust_aykiri].shape[0])\n",
    "    print(veri[tum_aykiri])\n",
    "    \n"
   ]
  },
  {
   "cell_type": "code",
   "execution_count": 176,
   "id": "816311d2-12fc-4742-abf9-91a3e17b4050",
   "metadata": {},
   "outputs": [
    {
     "name": "stdout",
     "output_type": "stream",
     "text": [
      "Toplam Gozlem Sayisi : 159\n",
      "Alt sınır değeri :-78.000000\n",
      "Üst sınır değeri :238.000000\n",
      "Toplam Aykırı Gözlem :  0\n",
      "Series([], Name: SiraNo, dtype: int64)\n",
      "None ----------------------------------- \n",
      "\n",
      "Toplam Gozlem Sayisi : 159\n",
      "Alt sınır değeri :-3.000000\n",
      "Üst sınır değeri :5.000000\n",
      "Toplam Aykırı Gözlem :  0\n",
      "Series([], Name: RiskDerecesi, dtype: int64)\n",
      "None ----------------------------------- \n",
      "\n",
      "Toplam Gozlem Sayisi : 159\n",
      "Alt sınır değeri :13.000000\n",
      "Üst sınır değeri :229.000000\n",
      "Toplam Aykırı Gözlem :  2\n",
      "76     231\n",
      "147    256\n",
      "Name: KayipDegeri, dtype: int64\n",
      "None ----------------------------------- \n",
      "\n",
      "Toplam Gozlem Sayisi : 159\n",
      "Alt sınır değeri :949.500000\n",
      "Üst sınır değeri :3925.500000\n",
      "Toplam Aykırı Gözlem :  1\n",
      "32    4066\n",
      "Name: AzamiAgirlik, dtype: int64\n",
      "None ----------------------------------- \n",
      "\n",
      "Toplam Gozlem Sayisi : 159\n",
      "Alt sınır değeri :40.000000\n",
      "Üst sınır değeri :192.000000\n",
      "Toplam Aykırı Gözlem :  2\n",
      "32    258\n",
      "48    234\n",
      "Name: MotorHacmi, dtype: int64\n",
      "None ----------------------------------- \n",
      "\n",
      "Toplam Gozlem Sayisi : 159\n",
      "Alt sınır değeri :1.500000\n",
      "Üst sınır değeri :181.500000\n",
      "Toplam Aykırı Gözlem :  1\n",
      "75    200\n",
      "Name: BeygirGucu, dtype: int64\n",
      "None ----------------------------------- \n",
      "\n",
      "Toplam Gozlem Sayisi : 159\n",
      "Alt sınır değeri :3750.000000\n",
      "Üst sınır değeri :6550.000000\n",
      "Toplam Aykırı Gözlem :  2\n",
      "124    6600\n",
      "125    6600\n",
      "Name: MaximumDevir, dtype: int64\n",
      "None ----------------------------------- \n",
      "\n",
      "Toplam Gozlem Sayisi : 159\n",
      "Alt sınır değeri :11.000000\n",
      "Üst sınır değeri :43.000000\n",
      "Toplam Aykırı Gözlem :  3\n",
      "8     47\n",
      "19    49\n",
      "60    45\n",
      "Name: SehirIciHarcama, dtype: int64\n",
      "None ----------------------------------- \n",
      "\n",
      "Toplam Gozlem Sayisi : 159\n",
      "Alt sınır değeri :14.500000\n",
      "Üst sınır değeri :50.500000\n",
      "Toplam Aykırı Gözlem :  2\n",
      "8     53\n",
      "19    54\n",
      "Name: SehirDisiHarcama, dtype: int64\n",
      "None ----------------------------------- \n",
      "\n",
      "Toplam Gozlem Sayisi : 159\n",
      "Alt sınır değeri :-3649.250000\n",
      "Üst sınır değeri :25740.750000\n",
      "Toplam Aykırı Gözlem :  5\n",
      "32    32250\n",
      "45    28248\n",
      "46    28176\n",
      "47    31600\n",
      "48    35056\n",
      "Name: Fiyat, dtype: int64\n",
      "None ----------------------------------- \n",
      "\n"
     ]
    }
   ],
   "source": [
    "for i in numeric.columns:\n",
    "    print(aykırı(cars[i]),\"-\"*35,\"\\n\")"
   ]
  },
  {
   "cell_type": "code",
   "execution_count": 178,
   "id": "2f211ea5-9063-4863-a89d-39b7f4984387",
   "metadata": {},
   "outputs": [],
   "source": [
    "#fiyat tahmini"
   ]
  },
  {
   "cell_type": "code",
   "execution_count": 219,
   "id": "4922611b-3dc3-45d1-bd4b-8d589f40a825",
   "metadata": {},
   "outputs": [
    {
     "name": "stdout",
     "output_type": "stream",
     "text": [
      "0.8198172167883727\n"
     ]
    },
    {
     "data": {
      "image/png": "[encoded data removed]",
      "text/plain": [
       "<Figure size 720x360 with 1 Axes>"
      ]
     },
     "metadata": {
      "needs_background": "light"
     },
     "output_type": "display_data"
    }
   ],
   "source": [
    "data = numeric.drop(numeric.iloc[:,:2],axis=1)\n",
    "X = data.drop(\"Fiyat\",axis=1)\n",
    "y = data[[\"Fiyat\"]]\n",
    "\n",
    "model = LinearRegression().fit(X,y)\n",
    "\n",
    "y_pred = model.predict(X)\n",
    "\n",
    "plt.figure(figsize=(10,5))\n",
    "plt.plot(y[:50],\"o--\",label=\"Y true\")\n",
    "plt.plot(y_pred[:50] ,\"o-\",label = \"Predicted Y\",color=\"orange\")\n",
    "plt.legend()\n",
    "\n",
    "print(model.score(X,y))"
   ]
  },
  {
   "cell_type": "code",
   "execution_count": 229,
   "id": "f21ab545-51a8-4c68-83a9-7d974937d575",
   "metadata": {},
   "outputs": [],
   "source": [
    "from sklearn.metrics import r2_score,mean_squared_error\n",
    "models = [LinearRegression,Ridge,ElasticNet]\n",
    "\n",
    "def model(m):\n",
    "    model = m().fit(X,y)\n",
    "    y_pred = model.predict(X)\n",
    "    print(\"model : \", m)\n",
    "    print(\"r2 : \",r2_score(y,y_pred))\n",
    "    print(\"RMSE : \",np.sqrt(mean_squared_error(y,y_pred)))\n",
    "    print(\"\\n\")"
   ]
  },
  {
   "cell_type": "code",
   "execution_count": 230,
   "id": "eb216c70-4e1c-4455-9cf5-6529d0ce14ac",
   "metadata": {},
   "outputs": [
    {
     "name": "stdout",
     "output_type": "stream",
     "text": [
      "model :  <class 'sklearn.linear_model._base.LinearRegression'>\n",
      "r2 :  0.8198172167883727\n",
      "RMSE :  2487.170645997862\n",
      "\n",
      "\n",
      "model :  <class 'sklearn.linear_model._ridge.Ridge'>\n",
      "r2 :  0.8198171523126534\n",
      "RMSE :  2487.1710909962667\n",
      "\n",
      "\n",
      "model :  <class 'sklearn.linear_model._coordinate_descent.ElasticNet'>\n",
      "r2 :  0.8196319712789915\n",
      "RMSE :  2488.4488447945105\n",
      "\n",
      "\n"
     ]
    }
   ],
   "source": [
    "for i in models:\n",
    "    model(i)"
   ]
  }
 ],
 "metadata": {
  "kernelspec": {
   "display_name": "Python 3 (ipykernel)",
   "language": "python",
   "name": "python3"
  },
  "language_info": {
   "codemirror_mode": {
    "name": "ipython",
    "version": 3
   },
   "file_extension": ".py",
   "mimetype": "text/x-python",
   "name": "python",
   "nbconvert_exporter": "python",
   "pygments_lexer": "ipython3",
   "version": "3.9.7"
  }
 },
 "nbformat": 4,
 "nbformat_minor": 5
}
