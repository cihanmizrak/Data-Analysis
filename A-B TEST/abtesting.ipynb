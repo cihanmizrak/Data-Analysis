{
 "cells": [
  {
   "cell_type": "markdown",
   "metadata": {},
   "source": [
    "### A/B TESTİ"
   ]
  },
  {
   "cell_type": "code",
   "execution_count": 5,
   "metadata": {},
   "outputs": [],
   "source": [
    "import pandas as pd\n",
    "import numpy as np\n",
    "\n",
    "control_df = pd.read_excel(\"control.xlsx\")\n",
    "\n",
    "test_df = pd.read_excel(\"test.xlsx\")\n"
   ]
  },
  {
   "cell_type": "markdown",
   "metadata": {},
   "source": [
    "    Bir firmanın web site bilgilerini içeren bu veri setinde kullanıcıların gördükleri ve tıkladıkları reklam sayıları gibi bilgilerin yanı sıra\n",
    "    buradan gelen kazanç bilgileri yer almaktadır   "
   ]
  },
  {
   "cell_type": "markdown",
   "metadata": {},
   "source": [
    "KONTROL VERİSİ"
   ]
  },
  {
   "cell_type": "code",
   "execution_count": 8,
   "metadata": {},
   "outputs": [
    {
     "name": "stdout",
     "output_type": "stream",
     "text": [
      "      Impression        Click    Purchase      Earning\n",
      "0   82529.459271  6090.077317  665.211255  2311.277143\n",
      "1   98050.451926  3382.861786  315.084895  1742.806855\n",
      "2   82696.023549  4167.965750  458.083738  1797.827447\n",
      "3  109914.400398  4910.882240  487.090773  1696.229178\n",
      "4  108457.762630  5987.655811  441.034050  1543.720179\n",
      "(40, 4)\n"
     ]
    }
   ],
   "source": [
    "print(control_df.head())\n",
    "print(control_df.shape)"
   ]
  },
  {
   "cell_type": "markdown",
   "metadata": {},
   "source": [
    "TEST VERİSİ"
   ]
  },
  {
   "cell_type": "code",
   "execution_count": 9,
   "metadata": {},
   "outputs": [
    {
     "name": "stdout",
     "output_type": "stream",
     "text": [
      "   Impression  Click  Purchase  Earning\n",
      "0      120104   3217       702     1940\n",
      "1      134776   3635       834     2929\n",
      "2      107807   3057       423     2526\n",
      "3      116445   4650       429     2281\n",
      "4      145083   5201       750     2782\n",
      "(40, 4)\n"
     ]
    }
   ],
   "source": [
    "print(test_df.head())\n",
    "print(test_df.shape)"
   ]
  },
  {
   "cell_type": "markdown",
   "metadata": {},
   "source": [
    "### Veri seti\n",
    "\n",
    "- Impression: reklam görüntüleme sayısı\n",
    "- Click: görüntülenen reklama tıklama sayısı\n",
    "- Purchase: tıklanan reklamlar sonrası satın alınan ürün sayısı\n",
    "- Earning: Satın alıınan ürünler sonrası elde edilen kazanç"
   ]
  },
  {
   "cell_type": "markdown",
   "metadata": {},
   "source": [
    "### Metrik = Purchase"
   ]
  },
  {
   "cell_type": "code",
   "execution_count": 13,
   "metadata": {},
   "outputs": [
    {
     "name": "stdout",
     "output_type": "stream",
     "text": [
      "Kontrol grubunun kazanç ortalaması :  550.8940587702316\n",
      "Test grubunun kazanç ortalaması :  582.05\n"
     ]
    }
   ],
   "source": [
    "#Ortalamalarının Karşılaştırılması\n",
    "print(\"Kontrol grubunun kazanç ortalaması : \",control_df[\"Purchase\"].mean())\n",
    "print(\"Test grubunun kazanç ortalaması : \",test_df[\"Purchase\"].mean())"
   ]
  },
  {
   "cell_type": "markdown",
   "metadata": {},
   "source": [
    "- Öncelikle hipotezler kurularak ölçüm verisinin normal dağılıp dağılmadığını shapiro wilk testi ile kontrol edeceğiz \n",
    "- İkinci olarak varyanların homejenliğini test etmek için levene testini uygulayacağız\n"
   ]
  },
  {
   "cell_type": "markdown",
   "metadata": {},
   "source": [
    "    Normallik Testi "
   ]
  },
  {
   "cell_type": "markdown",
   "metadata": {},
   "source": [
    "Hipotezler\n",
    "$$\n",
    " H_0 : İlgilenilen \\; yığının \\; dağılımı \\; normaldir. \n",
    " $$\n",
    "\n",
    "$$H_1 : İlgilenilen \\; yığının \\; dağılımı \\; normal \\; değildir. $$"
   ]
  },
  {
   "cell_type": "code",
   "execution_count": 26,
   "metadata": {},
   "outputs": [
    {
     "name": "stdout",
     "output_type": "stream",
     "text": [
      "Statistic = 0.9773, p-value = 0.5891\n",
      "P değeri: 0.5891125202178955 > 0.05 olduğundan H0  hipotezi reddedilmez. Yani dağılım normaldir.\n"
     ]
    }
   ],
   "source": [
    "import scipy.stats as sm\n",
    "s,p = sm.shapiro(control_df[\"Purchase\"])\n",
    "print(\"Statistic = %.4f, p-value = %.4f\" % (s, p))\n",
    "\n",
    "if p > 0.05 :\n",
    "    print(f\"P değeri: {p} > 0.05 olduğundan H0  hipotezi reddedilmez. Yani dağılım normaldir.\")\n",
    "else:\n",
    "    print(f\"P değeri: {p} < 0.05 olduğundan H0  hipotezi reddedilir. Yani dağılım normal değildir.\")"
   ]
  },
  {
   "cell_type": "markdown",
   "metadata": {},
   "source": [
    "    Varyansların homojenliği testi"
   ]
  },
  {
   "cell_type": "markdown",
   "metadata": {},
   "source": [
    "Hipotezler\n",
    "$$\n",
    " H_0 : Varyanslar \\; homojendir. \n",
    " $$\n",
    "\n",
    "$$H_1 : Varyasnlar \\; homojen \\; değildir. $$"
   ]
  },
  {
   "cell_type": "code",
   "execution_count": 35,
   "metadata": {},
   "outputs": [
    {
     "name": "stdout",
     "output_type": "stream",
     "text": [
      "Statistic = 2.6343, p-value = 0.1086\n",
      "P değeri: 0.10861054855604238 > 0.05 olduğundan H0  hipotezi reddedilmez. Yani varyasnlar homojendir.\n"
     ]
    }
   ],
   "source": [
    "s,p = sm.levene(control_df[\"Purchase\"],test_df[\"Purchase\"])\n",
    "print(\"Statistic = %.4f, p-value = %.4f\" % (s, p))\n",
    "\n",
    "if p > 0.05 :\n",
    "    print(f\"P değeri: {p} > 0.05 olduğundan H0  hipotezi reddedilmez. Yani varyasnlar homojendir.\")\n",
    "else:\n",
    "    print(f\"P değeri:{p} < 0.05 olduğundan H0  hipotezi reddedilir. Yani varyanslar homojen değildir.\")"
   ]
  },
  {
   "cell_type": "markdown",
   "metadata": {},
   "source": [
    "    İki varsayım da sağlandığına göre iki örneklem T testi'ni kullanabiliriz."
   ]
  },
  {
   "cell_type": "markdown",
   "metadata": {},
   "source": [
    "Hipotezler\n",
    "$$\n",
    " H_0 : \\mu_0-\\mu_1 = 0\n",
    " $$\n",
    "\n",
    "$$\n",
    "H_1 : \\mu_0 - \\mu_1 \\; \\neq 0\n",
    "\n",
    "$$"
   ]
  },
  {
   "cell_type": "code",
   "execution_count": 41,
   "metadata": {},
   "outputs": [
    {
     "name": "stdout",
     "output_type": "stream",
     "text": [
      "Statistic = -0.9398, p-value = 0.3502\n",
      "P değeri: 0.35022752318637906 > 0.05 olduğundan H0  hipotezi reddedilmez. Yani istatistiksel olarak anlamlı bir fark yoktur.\n"
     ]
    }
   ],
   "source": [
    "s,p = sm.ttest_ind(control_df[\"Purchase\"],test_df[\"Purchase\"])\n",
    "print(\"Statistic = %.4f, p-value = %.4f\" % (s, p))\n",
    "if p > 0.05 :\n",
    "    print(f\"P değeri: {p} > 0.05 olduğundan H0  hipotezi reddedilmez. Yani istatistiksel olarak anlamlı bir fark yoktur.\")\n",
    "else:\n",
    "    print(f\"P değeri:{p} < 0.05 olduğundan H0  hipotezi reddedilir. Yani istatistiksel olarak farklıdır\")"
   ]
  },
  {
   "cell_type": "markdown",
   "metadata": {},
   "source": [
    "### SONUÇ\n",
    "    Sektörde oldukça geniş bir şekilde kendine yer bulan AB Testi adına yapılan bu çalışmayı çalıştığımız bir firmada strateji belirlemek adına sunuyor olsaydık yeni sistemin farklı olmadığını ve yapılan yatırımın geri dönüşünün olmadığını, eski sistemin devam ettirilebileceğini söylemek mümkün olacaktı."
   ]
  }
 ],
 "metadata": {
  "kernelspec": {
   "display_name": "Python 3",
   "language": "python",
   "name": "python3"
  },
  "language_info": {
   "codemirror_mode": {
    "name": "ipython",
    "version": 3
   },
   "file_extension": ".py",
   "mimetype": "text/x-python",
   "name": "python",
   "nbconvert_exporter": "python",
   "pygments_lexer": "ipython3",
   "version": "3.10.6"
  },
  "orig_nbformat": 4
 },
 "nbformat": 4,
 "nbformat_minor": 2
}
